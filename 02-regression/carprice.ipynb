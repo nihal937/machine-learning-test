{
 "cells": [
  {
   "cell_type": "code",
   "execution_count": null,
   "id": "a4d25dfa-9312-4e30-b35f-481b738e59b0",
   "metadata": {},
   "outputs": [],
   "source": [
    "import pandas as pd\n",
    "import numpy as np"
   ]
  },
  {
   "cell_type": "code",
   "execution_count": null,
   "id": "373f140b-4489-4703-9517-c6cd0f0c0792",
   "metadata": {},
   "outputs": [],
   "source": [
    "data = 'https://raw.githubusercontent.com/alexeygrigorev/mlbookcamp-code/refs/heads/master/chapter-02-car-price/data.csv'"
   ]
  },
  {
   "cell_type": "code",
   "execution_count": null,
   "id": "4f4bdfce-ff87-4659-88f2-e62b380c467e",
   "metadata": {},
   "outputs": [],
   "source": [
    "!wget $data"
   ]
  },
  {
   "cell_type": "code",
   "execution_count": null,
   "id": "cd4212bb-beaa-4045-819d-e91a7d42290d",
   "metadata": {},
   "outputs": [],
   "source": [
    "df = pd.read_csv('data.csv')"
   ]
  },
  {
   "cell_type": "code",
   "execution_count": null,
   "id": "28b63703-81fb-4cb4-a8ca-f7f2e8dabd55",
   "metadata": {},
   "outputs": [],
   "source": [
    "df.head()"
   ]
  },
  {
   "cell_type": "code",
   "execution_count": null,
   "id": "b5de4f1c-43f6-4edf-8023-e8fe69b00269",
   "metadata": {},
   "outputs": [],
   "source": [
    "df.columns = df.columns = df.columns.str.lower().str.replace(' ','_')"
   ]
  },
  {
   "cell_type": "code",
   "execution_count": null,
   "id": "1355c2c8-3a11-415f-9397-b741fcee3492",
   "metadata": {},
   "outputs": [],
   "source": [
    "strings = list(df.dtypes[df.dtypes == 'object'].index)\n",
    "strings"
   ]
  },
  {
   "cell_type": "code",
   "execution_count": null,
   "id": "28a06ec6-b1ee-41fc-aed6-c884228d0120",
   "metadata": {},
   "outputs": [],
   "source": [
    "for col in strings:\n",
    "    df[col] = df[col].str.lower().str.replace(' ','_')"
   ]
  },
  {
   "cell_type": "code",
   "execution_count": null,
   "id": "e59bb30a-1bee-4735-a9e2-035d1f8316f1",
   "metadata": {},
   "outputs": [],
   "source": [
    "df.head()"
   ]
  },
  {
   "cell_type": "code",
   "execution_count": null,
   "id": "9a19d185-30b9-41ac-8b16-63722cdbc1a1",
   "metadata": {},
   "outputs": [],
   "source": [
    "df.dtypes"
   ]
  },
  {
   "cell_type": "markdown",
   "id": "b58481f9-80f1-4b87-87b4-c963367cf957",
   "metadata": {},
   "source": [
    "#### Exploratory Data Analysis"
   ]
  },
  {
   "cell_type": "code",
   "execution_count": null,
   "id": "607c7c39-7fa9-4173-964e-db18f4ef4f1b",
   "metadata": {},
   "outputs": [],
   "source": [
    "for col in df.columns:\n",
    "    print(col)\n",
    "    print(df[col].unique()[:5])\n",
    "    print(df[col].nunique())"
   ]
  },
  {
   "cell_type": "code",
   "execution_count": null,
   "id": "473f9c9f-8bb0-4b79-92db-4000322184b0",
   "metadata": {},
   "outputs": [],
   "source": [
    "df"
   ]
  },
  {
   "cell_type": "code",
   "execution_count": null,
   "id": "a139a449-5742-4916-be75-4aaea8c8974f",
   "metadata": {},
   "outputs": [],
   "source": [
    "import matplotlib.pyplot as plt\n",
    "import seaborn as sns\n",
    "\n",
    "%matplotlib inline"
   ]
  },
  {
   "cell_type": "code",
   "execution_count": null,
   "id": "6e98cc1b-8e51-48e6-bbe7-40a8f5f0fef1",
   "metadata": {},
   "outputs": [],
   "source": [
    "sns.histplot(df.msrp,bins = 50)"
   ]
  },
  {
   "cell_type": "code",
   "execution_count": null,
   "id": "771017db-3e24-40c0-bcca-ef1b603affe5",
   "metadata": {},
   "outputs": [],
   "source": [
    "sns.histplot(df.msrp[df.msrp < 100000],bins=50)"
   ]
  },
  {
   "cell_type": "code",
   "execution_count": null,
   "id": "3fbd5fb1-91d6-4808-a038-4a21bb25b0ae",
   "metadata": {},
   "outputs": [],
   "source": [
    "np.log1p([1, 10, 100, 1000])"
   ]
  },
  {
   "cell_type": "code",
   "execution_count": null,
   "id": "6175e268-e9c7-4b41-a2e2-a43eaa777c11",
   "metadata": {},
   "outputs": [],
   "source": [
    "np.log([1 + 1, 10 + 1, 100 + 1, 1000 + 1])"
   ]
  },
  {
   "cell_type": "code",
   "execution_count": null,
   "id": "ab20ae32-a277-4d50-b3b6-1c75fdbbcecb",
   "metadata": {},
   "outputs": [],
   "source": [
    "price_logs = np.log1p(df.msrp)"
   ]
  },
  {
   "cell_type": "code",
   "execution_count": null,
   "id": "b475f6dd-e45f-4f81-8a40-631ba8c1f741",
   "metadata": {},
   "outputs": [],
   "source": [
    "price_logs"
   ]
  },
  {
   "cell_type": "code",
   "execution_count": null,
   "id": "412ba9ee-3357-43f4-a995-3b5d4c2eef70",
   "metadata": {},
   "outputs": [],
   "source": [
    "sns.histplot(price_logs, bins = 50)"
   ]
  },
  {
   "cell_type": "code",
   "execution_count": null,
   "id": "03d4ad67-443a-4e8b-bdc2-61e71a048d64",
   "metadata": {},
   "outputs": [],
   "source": [
    "df.isnull()"
   ]
  },
  {
   "cell_type": "code",
   "execution_count": null,
   "id": "3eea2956-20e7-4f4c-b914-fdebda42eeeb",
   "metadata": {},
   "outputs": [],
   "source": [
    "df.isnull().sum()"
   ]
  },
  {
   "cell_type": "markdown",
   "id": "0de5ce28-5f51-4717-886c-b6ebeee9fc5e",
   "metadata": {},
   "source": [
    "##### Setting up validation framework"
   ]
  },
  {
   "cell_type": "code",
   "execution_count": null,
   "id": "2e061470-97a0-4d59-94cc-8db6937d3451",
   "metadata": {},
   "outputs": [],
   "source": [
    "n = len(df)\n",
    "print(n)"
   ]
  },
  {
   "cell_type": "code",
   "execution_count": null,
   "id": "49f228b9-f2a4-4290-a849-cce12af03fdc",
   "metadata": {},
   "outputs": [],
   "source": [
    "n_val = int(n * 0.2)\n",
    "n_test = int(n * 0.2)\n",
    "n_train = n - n_val - n_test\n",
    "print(n_val, n_test, n_train)"
   ]
  },
  {
   "cell_type": "code",
   "execution_count": null,
   "id": "a4f2cfb5-8c8f-4f35-9be6-570a83797996",
   "metadata": {},
   "outputs": [],
   "source": [
    "n, n_val + n_test + n_train"
   ]
  },
  {
   "cell_type": "code",
   "execution_count": null,
   "id": "e23a7e44-e71b-49e2-aa3f-42b23be6d65a",
   "metadata": {},
   "outputs": [],
   "source": []
  },
  {
   "cell_type": "code",
   "execution_count": null,
   "id": "ffe41db7-83c1-451a-b20e-ebe6f0d6a487",
   "metadata": {},
   "outputs": [],
   "source": []
  },
  {
   "cell_type": "code",
   "execution_count": null,
   "id": "304dc7cb-3e95-4244-ab8d-b718b5b4438e",
   "metadata": {},
   "outputs": [],
   "source": [
    "df_val = df.iloc[:n_val]\n",
    "df_test = df.iloc[n_val:n_val + n_test]\n",
    "df_train = df.iloc[n_val + n_test:]"
   ]
  },
  {
   "cell_type": "code",
   "execution_count": null,
   "id": "c2895eed-a494-40d2-bc17-22bfffe87236",
   "metadata": {},
   "outputs": [],
   "source": [
    "df_train = df.iloc[:n_train]\n",
    "df_val = df.iloc[n_train:n_train + n_val]\n",
    "df_test = df.iloc[n_train+n_val:n_val+n_test]"
   ]
  },
  {
   "cell_type": "code",
   "execution_count": null,
   "id": "b2b265cb-55e5-410a-ba22-68d0d9a4dd35",
   "metadata": {},
   "outputs": [],
   "source": [
    "idx = np.arange(n)\n",
    "np.random.seed(2)\n",
    "np.random.shuffle(idx)"
   ]
  },
  {
   "cell_type": "code",
   "execution_count": null,
   "id": "510578e2-56ef-4d29-892c-b8cc20f5d802",
   "metadata": {},
   "outputs": [],
   "source": [
    "df_train = df.iloc[idx[:n_train]]\n",
    "df_val = df.iloc[idx[n_train:n_train + n_val]]\n",
    "df_test = df.iloc[idx[n_train+n_val:]]"
   ]
  },
  {
   "cell_type": "code",
   "execution_count": null,
   "id": "fdc2c512-bbaf-4ec9-b9dc-0329c12cea37",
   "metadata": {},
   "outputs": [],
   "source": [
    "df_train = df_train.reset_index(drop=True)\n",
    "df_val = df_val.reset_index(drop=True)\n",
    "df_test = df_test.reset_index(drop=True)"
   ]
  },
  {
   "cell_type": "code",
   "execution_count": null,
   "id": "85b9f109-51c7-4c08-892d-0b14fb48bba1",
   "metadata": {},
   "outputs": [],
   "source": [
    "len(df_train), len(df_val), len(df_test)"
   ]
  },
  {
   "cell_type": "code",
   "execution_count": null,
   "id": "3cc8b2b9-de0c-4cf9-968b-791edf3b6147",
   "metadata": {},
   "outputs": [],
   "source": [
    "y_train = np.log1p(df_train.msrp.values)\n",
    "y_val = np.log1p(df_val.msrp.values)\n",
    "y_test = np.log1p(df_test.msrp.values)"
   ]
  },
  {
   "cell_type": "code",
   "execution_count": null,
   "id": "9e64198b-1335-4756-8327-f0808a2f84fe",
   "metadata": {},
   "outputs": [],
   "source": [
    "del df_train['msrp']\n",
    "del df_val['msrp']\n",
    "del df_test['msrp']"
   ]
  },
  {
   "cell_type": "code",
   "execution_count": null,
   "id": "77ec77b6-fd83-4912-9330-1f25af99b11d",
   "metadata": {},
   "outputs": [],
   "source": [
    "len(y_train)"
   ]
  },
  {
   "cell_type": "markdown",
   "id": "276e8409-868e-4ff4-9f00-7baacc2eb290",
   "metadata": {},
   "source": [
    "## 2.5 Linear regression"
   ]
  },
  {
   "cell_type": "code",
   "execution_count": null,
   "id": "ac2b3861-2fab-4ebd-ae87-7b7bd8a12e0a",
   "metadata": {},
   "outputs": [],
   "source": [
    "df_train.iloc[10]"
   ]
  },
  {
   "cell_type": "code",
   "execution_count": null,
   "id": "1bc8b96e-e941-42c7-8a2a-563b2fc81c0e",
   "metadata": {},
   "outputs": [],
   "source": [
    "xi = [453, 11, 86]"
   ]
  },
  {
   "cell_type": "code",
   "execution_count": null,
   "id": "f4c0b025-a109-4b06-ae14-eff9e2c6e890",
   "metadata": {},
   "outputs": [],
   "source": [
    "def g(xi):\n",
    "    # do something\n",
    "    return 10000"
   ]
  },
  {
   "cell_type": "code",
   "execution_count": null,
   "id": "fd68b3f5-105c-4bdc-b8fb-df140720f89b",
   "metadata": {},
   "outputs": [],
   "source": [
    "g(xi)"
   ]
  },
  {
   "cell_type": "code",
   "execution_count": null,
   "id": "85654d70-07dc-4aea-ba85-24b4626ffda3",
   "metadata": {},
   "outputs": [],
   "source": [
    "xi = [453, 11, 86]\n",
    "w0 = 7.17\n",
    "w = [0.01, 0.04, 0.002]"
   ]
  },
  {
   "cell_type": "code",
   "execution_count": null,
   "id": "a4b90fda-5644-44e2-bef0-e507ba2ad572",
   "metadata": {},
   "outputs": [],
   "source": [
    "def linear_regression(xi):\n",
    "    n = len(xi)\n",
    "    \n",
    "    pred = w0\n",
    "    \n",
    "    for j in range(n):\n",
    "        pred = pred + w[j] * xi[j]\n",
    "    return pred"
   ]
  },
  {
   "cell_type": "code",
   "execution_count": null,
   "id": "a7546373-78ec-42f0-93b3-7ace491e8602",
   "metadata": {},
   "outputs": [],
   "source": [
    "price = linear_regression(xi)\n",
    "price"
   ]
  },
  {
   "cell_type": "code",
   "execution_count": null,
   "id": "185278b2-ba93-4a43-84b7-73cdd4d70c42",
   "metadata": {},
   "outputs": [],
   "source": [
    "np.expm1(price)"
   ]
  },
  {
   "cell_type": "markdown",
   "id": "3a91cd97-1068-4e7b-8107-99cfb3e2681d",
   "metadata": {},
   "source": [
    "#### Linear regression vector form"
   ]
  },
  {
   "cell_type": "code",
   "execution_count": null,
   "id": "aadb71a0-d5ee-4a90-aade-0eb3267d711b",
   "metadata": {},
   "outputs": [],
   "source": [
    "def dot(xi, w):\n",
    "    n = len(xi)\n",
    "    res = 0.0\n",
    "    for j in range(n):\n",
    "        res = res + xi[j] * w[j]\n",
    "\n",
    "    return res"
   ]
  },
  {
   "cell_type": "code",
   "execution_count": null,
   "id": "ea3fcf26-7e49-4fc2-b18a-ea7a55396d3e",
   "metadata": {},
   "outputs": [],
   "source": [
    "def linear_regression(xi):\n",
    "    return w0 + dot(xi, w)"
   ]
  },
  {
   "cell_type": "code",
   "execution_count": null,
   "id": "b00b0e46-82ee-4d91-ae9e-34da01b047c7",
   "metadata": {},
   "outputs": [],
   "source": [
    "price = linear_regression(xi)\n",
    "price"
   ]
  },
  {
   "cell_type": "code",
   "execution_count": null,
   "id": "eceac498-3ab8-48e0-be4e-d89300a896ca",
   "metadata": {},
   "outputs": [],
   "source": [
    "w_new = [w0] + w\n",
    "w_new"
   ]
  },
  {
   "cell_type": "code",
   "execution_count": null,
   "id": "fea9f4e3-f947-4587-ba83-c2809347f8e0",
   "metadata": {},
   "outputs": [],
   "source": [
    "def linear_regression(xi):\n",
    "    xi = [1] + xi\n",
    "    return dot(xi, w_new)"
   ]
  },
  {
   "cell_type": "code",
   "execution_count": null,
   "id": "097db1fa-ba6d-4b38-b880-1187d9dc6b5d",
   "metadata": {},
   "outputs": [],
   "source": [
    "price = linear_regression(xi)\n",
    "price"
   ]
  },
  {
   "cell_type": "code",
   "execution_count": null,
   "id": "10c40ef3-7a8e-41ba-bb0d-915f86458fff",
   "metadata": {},
   "outputs": [],
   "source": [
    "xi = [453, 11, 86]\n",
    "w0 = 7.17\n",
    "w = [0.01, 0.04, 0.002]"
   ]
  },
  {
   "cell_type": "code",
   "execution_count": null,
   "id": "fb767dc1-756a-4972-9320-30e1583bf23e",
   "metadata": {},
   "outputs": [],
   "source": [
    "x1 = [1, 148, 24, 1385]\n",
    "x2 = [1, 132, 25, 2031] \n",
    "x10 = [1, 453, 11, 86]\n",
    "\n",
    "X = [x1, x2, x10]\n",
    "X = np.array(X)\n",
    "X"
   ]
  },
  {
   "cell_type": "code",
   "execution_count": null,
   "id": "929a818c-be10-4d11-a65b-2b62f3455d07",
   "metadata": {},
   "outputs": [],
   "source": [
    "X.dot(w_new)"
   ]
  },
  {
   "cell_type": "code",
   "execution_count": null,
   "id": "12a1b9fc-df60-475e-a193-89f793d2ea5e",
   "metadata": {},
   "outputs": [],
   "source": [
    "def linear_regression(X):\n",
    "    return X.dot(w_new)"
   ]
  },
  {
   "cell_type": "code",
   "execution_count": null,
   "id": "f644b4a2-0312-443d-a648-afa8432c1e97",
   "metadata": {},
   "outputs": [],
   "source": [
    "linear_regression(X)"
   ]
  },
  {
   "cell_type": "markdown",
   "id": "709662c6-e292-41b2-a807-c550c5479f40",
   "metadata": {},
   "source": [
    "### 2.7 Training a Linear Regression Model"
   ]
  },
  {
   "cell_type": "code",
   "execution_count": null,
   "id": "1df8c5cb-632a-4310-9f83-966018b93db3",
   "metadata": {},
   "outputs": [],
   "source": [
    "def train_linear_regression(X, y):\n",
    "    pass"
   ]
  },
  {
   "cell_type": "code",
   "execution_count": null,
   "id": "c9daf060-70e2-48ee-a824-92a24930448c",
   "metadata": {},
   "outputs": [],
   "source": [
    "X = [\n",
    "    [148, 24, 1385],\n",
    "    [132, 25, 2031],\n",
    "    [453, 11, 86],\n",
    "    [158, 24, 185],\n",
    "    [172, 25, 201],\n",
    "    [413, 11, 86],\n",
    "    [38,  54, 185],\n",
    "    [142, 25, 431],\n",
    "    [453, 31, 86],\n",
    "]\n",
    "\n",
    "X = np.array(X)\n",
    "X"
   ]
  },
  {
   "cell_type": "code",
   "execution_count": null,
   "id": "bb0dcd49-0486-49d5-b38d-85f12c7243d4",
   "metadata": {},
   "outputs": [],
   "source": []
  }
 ],
 "metadata": {
  "kernelspec": {
   "display_name": "Python 3 (ipykernel)",
   "language": "python",
   "name": "python3"
  },
  "language_info": {
   "codemirror_mode": {
    "name": "ipython",
    "version": 3
   },
   "file_extension": ".py",
   "mimetype": "text/x-python",
   "name": "python",
   "nbconvert_exporter": "python",
   "pygments_lexer": "ipython3",
   "version": "3.12.1"
  }
 },
 "nbformat": 4,
 "nbformat_minor": 5
}
